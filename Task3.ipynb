{
  "nbformat": 4,
  "nbformat_minor": 0,
  "metadata": {
    "colab": {
      "provenance": [],
      "authorship_tag": "ABX9TyOCE83F4BoL1YqRwHOdnonU",
      "include_colab_link": true
    },
    "kernelspec": {
      "name": "python3",
      "display_name": "Python 3"
    },
    "language_info": {
      "name": "python"
    }
  },
  "cells": [
    {
      "cell_type": "markdown",
      "metadata": {
        "id": "view-in-github",
        "colab_type": "text"
      },
      "source": [
        "<a href=\"https://colab.research.google.com/github/zulfiqaralimir/Yield-Curve-and-ETF-Analysis/blob/master/Task3.ipynb\" target=\"_parent\"><img src=\"https://colab.research.google.com/assets/colab-badge.svg\" alt=\"Open In Colab\"/></a>"
      ]
    },
    {
      "cell_type": "markdown",
      "source": [
        "#**Synthetic Data Part**"
      ],
      "metadata": {
        "id": "QJG5YswE0LBS"
      }
    },
    {
      "cell_type": "markdown",
      "source": [
        "###**Generate 5 uncorrelated Gaussian random variables**"
      ],
      "metadata": {
        "id": "BDrJ4q6Q0ayR"
      }
    },
    {
      "cell_type": "code",
      "source": [
        "import numpy as np\n",
        "import pandas as pd\n",
        "import matplotlib.pyplot as plt\n",
        "from sklearn.decomposition import PCA"
      ],
      "metadata": {
        "id": "I2d9ULqN73gy"
      },
      "execution_count": null,
      "outputs": []
    },
    {
      "cell_type": "code",
      "execution_count": null,
      "metadata": {
        "id": "ylVDZpG00ICB",
        "colab": {
          "base_uri": "https://localhost:8080/",
          "height": 206
        },
        "outputId": "d5d690a2-a71e-418e-a4b8-e3251f89c712"
      },
      "outputs": [
        {
          "output_type": "execute_result",
          "data": {
            "text/plain": [
              "       Var1      Var2      Var3      Var4      Var5\n",
              "0  1.764052  0.400157  0.978738  2.240893  1.867558\n",
              "1 -0.977278  0.950088 -0.151357 -0.103219  0.410599\n",
              "2  0.144044  1.454274  0.761038  0.121675  0.443863\n",
              "3  0.333674  1.494079 -0.205158  0.313068 -0.854096\n",
              "4 -2.552990  0.653619  0.864436 -0.742165  2.269755"
            ],
            "text/html": [
              "\n",
              "  <div id=\"df-d427597a-6c3f-4bac-a84b-80af9fceab8c\" class=\"colab-df-container\">\n",
              "    <div>\n",
              "<style scoped>\n",
              "    .dataframe tbody tr th:only-of-type {\n",
              "        vertical-align: middle;\n",
              "    }\n",
              "\n",
              "    .dataframe tbody tr th {\n",
              "        vertical-align: top;\n",
              "    }\n",
              "\n",
              "    .dataframe thead th {\n",
              "        text-align: right;\n",
              "    }\n",
              "</style>\n",
              "<table border=\"1\" class=\"dataframe\">\n",
              "  <thead>\n",
              "    <tr style=\"text-align: right;\">\n",
              "      <th></th>\n",
              "      <th>Var1</th>\n",
              "      <th>Var2</th>\n",
              "      <th>Var3</th>\n",
              "      <th>Var4</th>\n",
              "      <th>Var5</th>\n",
              "    </tr>\n",
              "  </thead>\n",
              "  <tbody>\n",
              "    <tr>\n",
              "      <th>0</th>\n",
              "      <td>1.764052</td>\n",
              "      <td>0.400157</td>\n",
              "      <td>0.978738</td>\n",
              "      <td>2.240893</td>\n",
              "      <td>1.867558</td>\n",
              "    </tr>\n",
              "    <tr>\n",
              "      <th>1</th>\n",
              "      <td>-0.977278</td>\n",
              "      <td>0.950088</td>\n",
              "      <td>-0.151357</td>\n",
              "      <td>-0.103219</td>\n",
              "      <td>0.410599</td>\n",
              "    </tr>\n",
              "    <tr>\n",
              "      <th>2</th>\n",
              "      <td>0.144044</td>\n",
              "      <td>1.454274</td>\n",
              "      <td>0.761038</td>\n",
              "      <td>0.121675</td>\n",
              "      <td>0.443863</td>\n",
              "    </tr>\n",
              "    <tr>\n",
              "      <th>3</th>\n",
              "      <td>0.333674</td>\n",
              "      <td>1.494079</td>\n",
              "      <td>-0.205158</td>\n",
              "      <td>0.313068</td>\n",
              "      <td>-0.854096</td>\n",
              "    </tr>\n",
              "    <tr>\n",
              "      <th>4</th>\n",
              "      <td>-2.552990</td>\n",
              "      <td>0.653619</td>\n",
              "      <td>0.864436</td>\n",
              "      <td>-0.742165</td>\n",
              "      <td>2.269755</td>\n",
              "    </tr>\n",
              "  </tbody>\n",
              "</table>\n",
              "</div>\n",
              "    <div class=\"colab-df-buttons\">\n",
              "\n",
              "  <div class=\"colab-df-container\">\n",
              "    <button class=\"colab-df-convert\" onclick=\"convertToInteractive('df-d427597a-6c3f-4bac-a84b-80af9fceab8c')\"\n",
              "            title=\"Convert this dataframe to an interactive table.\"\n",
              "            style=\"display:none;\">\n",
              "\n",
              "  <svg xmlns=\"http://www.w3.org/2000/svg\" height=\"24px\" viewBox=\"0 -960 960 960\">\n",
              "    <path d=\"M120-120v-720h720v720H120Zm60-500h600v-160H180v160Zm220 220h160v-160H400v160Zm0 220h160v-160H400v160ZM180-400h160v-160H180v160Zm440 0h160v-160H620v160ZM180-180h160v-160H180v160Zm440 0h160v-160H620v160Z\"/>\n",
              "  </svg>\n",
              "    </button>\n",
              "\n",
              "  <style>\n",
              "    .colab-df-container {\n",
              "      display:flex;\n",
              "      gap: 12px;\n",
              "    }\n",
              "\n",
              "    .colab-df-convert {\n",
              "      background-color: #E8F0FE;\n",
              "      border: none;\n",
              "      border-radius: 50%;\n",
              "      cursor: pointer;\n",
              "      display: none;\n",
              "      fill: #1967D2;\n",
              "      height: 32px;\n",
              "      padding: 0 0 0 0;\n",
              "      width: 32px;\n",
              "    }\n",
              "\n",
              "    .colab-df-convert:hover {\n",
              "      background-color: #E2EBFA;\n",
              "      box-shadow: 0px 1px 2px rgba(60, 64, 67, 0.3), 0px 1px 3px 1px rgba(60, 64, 67, 0.15);\n",
              "      fill: #174EA6;\n",
              "    }\n",
              "\n",
              "    .colab-df-buttons div {\n",
              "      margin-bottom: 4px;\n",
              "    }\n",
              "\n",
              "    [theme=dark] .colab-df-convert {\n",
              "      background-color: #3B4455;\n",
              "      fill: #D2E3FC;\n",
              "    }\n",
              "\n",
              "    [theme=dark] .colab-df-convert:hover {\n",
              "      background-color: #434B5C;\n",
              "      box-shadow: 0px 1px 3px 1px rgba(0, 0, 0, 0.15);\n",
              "      filter: drop-shadow(0px 1px 2px rgba(0, 0, 0, 0.3));\n",
              "      fill: #FFFFFF;\n",
              "    }\n",
              "  </style>\n",
              "\n",
              "    <script>\n",
              "      const buttonEl =\n",
              "        document.querySelector('#df-d427597a-6c3f-4bac-a84b-80af9fceab8c button.colab-df-convert');\n",
              "      buttonEl.style.display =\n",
              "        google.colab.kernel.accessAllowed ? 'block' : 'none';\n",
              "\n",
              "      async function convertToInteractive(key) {\n",
              "        const element = document.querySelector('#df-d427597a-6c3f-4bac-a84b-80af9fceab8c');\n",
              "        const dataTable =\n",
              "          await google.colab.kernel.invokeFunction('convertToInteractive',\n",
              "                                                    [key], {});\n",
              "        if (!dataTable) return;\n",
              "\n",
              "        const docLinkHtml = 'Like what you see? Visit the ' +\n",
              "          '<a target=\"_blank\" href=https://colab.research.google.com/notebooks/data_table.ipynb>data table notebook</a>'\n",
              "          + ' to learn more about interactive tables.';\n",
              "        element.innerHTML = '';\n",
              "        dataTable['output_type'] = 'display_data';\n",
              "        await google.colab.output.renderOutput(dataTable, element);\n",
              "        const docLink = document.createElement('div');\n",
              "        docLink.innerHTML = docLinkHtml;\n",
              "        element.appendChild(docLink);\n",
              "      }\n",
              "    </script>\n",
              "  </div>\n",
              "\n",
              "\n",
              "    <div id=\"df-219dc6ef-fe56-475f-b74b-a50d270f432e\">\n",
              "      <button class=\"colab-df-quickchart\" onclick=\"quickchart('df-219dc6ef-fe56-475f-b74b-a50d270f432e')\"\n",
              "                title=\"Suggest charts\"\n",
              "                style=\"display:none;\">\n",
              "\n",
              "<svg xmlns=\"http://www.w3.org/2000/svg\" height=\"24px\"viewBox=\"0 0 24 24\"\n",
              "     width=\"24px\">\n",
              "    <g>\n",
              "        <path d=\"M19 3H5c-1.1 0-2 .9-2 2v14c0 1.1.9 2 2 2h14c1.1 0 2-.9 2-2V5c0-1.1-.9-2-2-2zM9 17H7v-7h2v7zm4 0h-2V7h2v10zm4 0h-2v-4h2v4z\"/>\n",
              "    </g>\n",
              "</svg>\n",
              "      </button>\n",
              "\n",
              "<style>\n",
              "  .colab-df-quickchart {\n",
              "      --bg-color: #E8F0FE;\n",
              "      --fill-color: #1967D2;\n",
              "      --hover-bg-color: #E2EBFA;\n",
              "      --hover-fill-color: #174EA6;\n",
              "      --disabled-fill-color: #AAA;\n",
              "      --disabled-bg-color: #DDD;\n",
              "  }\n",
              "\n",
              "  [theme=dark] .colab-df-quickchart {\n",
              "      --bg-color: #3B4455;\n",
              "      --fill-color: #D2E3FC;\n",
              "      --hover-bg-color: #434B5C;\n",
              "      --hover-fill-color: #FFFFFF;\n",
              "      --disabled-bg-color: #3B4455;\n",
              "      --disabled-fill-color: #666;\n",
              "  }\n",
              "\n",
              "  .colab-df-quickchart {\n",
              "    background-color: var(--bg-color);\n",
              "    border: none;\n",
              "    border-radius: 50%;\n",
              "    cursor: pointer;\n",
              "    display: none;\n",
              "    fill: var(--fill-color);\n",
              "    height: 32px;\n",
              "    padding: 0;\n",
              "    width: 32px;\n",
              "  }\n",
              "\n",
              "  .colab-df-quickchart:hover {\n",
              "    background-color: var(--hover-bg-color);\n",
              "    box-shadow: 0 1px 2px rgba(60, 64, 67, 0.3), 0 1px 3px 1px rgba(60, 64, 67, 0.15);\n",
              "    fill: var(--button-hover-fill-color);\n",
              "  }\n",
              "\n",
              "  .colab-df-quickchart-complete:disabled,\n",
              "  .colab-df-quickchart-complete:disabled:hover {\n",
              "    background-color: var(--disabled-bg-color);\n",
              "    fill: var(--disabled-fill-color);\n",
              "    box-shadow: none;\n",
              "  }\n",
              "\n",
              "  .colab-df-spinner {\n",
              "    border: 2px solid var(--fill-color);\n",
              "    border-color: transparent;\n",
              "    border-bottom-color: var(--fill-color);\n",
              "    animation:\n",
              "      spin 1s steps(1) infinite;\n",
              "  }\n",
              "\n",
              "  @keyframes spin {\n",
              "    0% {\n",
              "      border-color: transparent;\n",
              "      border-bottom-color: var(--fill-color);\n",
              "      border-left-color: var(--fill-color);\n",
              "    }\n",
              "    20% {\n",
              "      border-color: transparent;\n",
              "      border-left-color: var(--fill-color);\n",
              "      border-top-color: var(--fill-color);\n",
              "    }\n",
              "    30% {\n",
              "      border-color: transparent;\n",
              "      border-left-color: var(--fill-color);\n",
              "      border-top-color: var(--fill-color);\n",
              "      border-right-color: var(--fill-color);\n",
              "    }\n",
              "    40% {\n",
              "      border-color: transparent;\n",
              "      border-right-color: var(--fill-color);\n",
              "      border-top-color: var(--fill-color);\n",
              "    }\n",
              "    60% {\n",
              "      border-color: transparent;\n",
              "      border-right-color: var(--fill-color);\n",
              "    }\n",
              "    80% {\n",
              "      border-color: transparent;\n",
              "      border-right-color: var(--fill-color);\n",
              "      border-bottom-color: var(--fill-color);\n",
              "    }\n",
              "    90% {\n",
              "      border-color: transparent;\n",
              "      border-bottom-color: var(--fill-color);\n",
              "    }\n",
              "  }\n",
              "</style>\n",
              "\n",
              "      <script>\n",
              "        async function quickchart(key) {\n",
              "          const quickchartButtonEl =\n",
              "            document.querySelector('#' + key + ' button');\n",
              "          quickchartButtonEl.disabled = true;  // To prevent multiple clicks.\n",
              "          quickchartButtonEl.classList.add('colab-df-spinner');\n",
              "          try {\n",
              "            const charts = await google.colab.kernel.invokeFunction(\n",
              "                'suggestCharts', [key], {});\n",
              "          } catch (error) {\n",
              "            console.error('Error during call to suggestCharts:', error);\n",
              "          }\n",
              "          quickchartButtonEl.classList.remove('colab-df-spinner');\n",
              "          quickchartButtonEl.classList.add('colab-df-quickchart-complete');\n",
              "        }\n",
              "        (() => {\n",
              "          let quickchartButtonEl =\n",
              "            document.querySelector('#df-219dc6ef-fe56-475f-b74b-a50d270f432e button');\n",
              "          quickchartButtonEl.style.display =\n",
              "            google.colab.kernel.accessAllowed ? 'block' : 'none';\n",
              "        })();\n",
              "      </script>\n",
              "    </div>\n",
              "\n",
              "    </div>\n",
              "  </div>\n"
            ],
            "application/vnd.google.colaboratory.intrinsic+json": {
              "type": "dataframe",
              "variable_name": "df"
            }
          },
          "metadata": {},
          "execution_count": 2
        }
      ],
      "source": [
        "import numpy as np\n",
        "\n",
        "np.random.seed(0)\n",
        "X_synthetic = np.random.normal(0, 1, size=(1000000, 5))  # 1,000,000 observations, 5 uncorrelated features\n",
        "# Convert to DataFrame for easier viewing\n",
        "df = pd.DataFrame(X_synthetic, columns=[f'Var{i+1}' for i in range(5)])\n",
        "df.head()\n"
      ]
    },
    {
      "cell_type": "code",
      "source": [
        "df.to_csv('synthetic_data.csv', index=False)"
      ],
      "metadata": {
        "id": "99Tz0anZ7Arr"
      },
      "execution_count": null,
      "outputs": []
    },
    {
      "cell_type": "code",
      "source": [
        "from google.colab import files\n",
        "files.download('synthetic_data.csv')"
      ],
      "metadata": {
        "colab": {
          "base_uri": "https://localhost:8080/",
          "height": 17
        },
        "id": "AEgIVDvr6fOh",
        "outputId": "79456392-de9f-4445-a30c-31d168f32c3d"
      },
      "execution_count": null,
      "outputs": [
        {
          "output_type": "display_data",
          "data": {
            "text/plain": [
              "<IPython.core.display.Javascript object>"
            ],
            "application/javascript": [
              "\n",
              "    async function download(id, filename, size) {\n",
              "      if (!google.colab.kernel.accessAllowed) {\n",
              "        return;\n",
              "      }\n",
              "      const div = document.createElement('div');\n",
              "      const label = document.createElement('label');\n",
              "      label.textContent = `Downloading \"${filename}\": `;\n",
              "      div.appendChild(label);\n",
              "      const progress = document.createElement('progress');\n",
              "      progress.max = size;\n",
              "      div.appendChild(progress);\n",
              "      document.body.appendChild(div);\n",
              "\n",
              "      const buffers = [];\n",
              "      let downloaded = 0;\n",
              "\n",
              "      const channel = await google.colab.kernel.comms.open(id);\n",
              "      // Send a message to notify the kernel that we're ready.\n",
              "      channel.send({})\n",
              "\n",
              "      for await (const message of channel.messages) {\n",
              "        // Send a message to notify the kernel that we're ready.\n",
              "        channel.send({})\n",
              "        if (message.buffers) {\n",
              "          for (const buffer of message.buffers) {\n",
              "            buffers.push(buffer);\n",
              "            downloaded += buffer.byteLength;\n",
              "            progress.value = downloaded;\n",
              "          }\n",
              "        }\n",
              "      }\n",
              "      const blob = new Blob(buffers, {type: 'application/binary'});\n",
              "      const a = document.createElement('a');\n",
              "      a.href = window.URL.createObjectURL(blob);\n",
              "      a.download = filename;\n",
              "      div.appendChild(a);\n",
              "      a.click();\n",
              "      div.remove();\n",
              "    }\n",
              "  "
            ]
          },
          "metadata": {}
        },
        {
          "output_type": "display_data",
          "data": {
            "text/plain": [
              "<IPython.core.display.Javascript object>"
            ],
            "application/javascript": [
              "download(\"download_cc14e8a0-0e93-4355-a2cf-673329f55b51\", \"synthetic_data.csv\", 98155534)"
            ]
          },
          "metadata": {}
        }
      ]
    },
    {
      "cell_type": "markdown",
      "source": [
        "###**Run PCA (Principal Component Analysis)**"
      ],
      "metadata": {
        "id": "U4fYTIxC0sm3"
      }
    },
    {
      "cell_type": "code",
      "source": [
        "from sklearn.decomposition import PCA\n",
        "\n",
        "pca_synthetic = PCA()\n",
        "pca_synthetic.fit(X_synthetic)\n",
        "\n",
        "explained_variance = pca_synthetic.explained_variance_ratio_\n",
        "print(\"Explained Variance (Synthetic):\", explained_variance)"
      ],
      "metadata": {
        "colab": {
          "base_uri": "https://localhost:8080/"
        },
        "id": "__gK62b401XP",
        "outputId": "9919457d-2eaa-4b34-d28e-dca84c817ab6"
      },
      "execution_count": null,
      "outputs": [
        {
          "output_type": "stream",
          "name": "stdout",
          "text": [
            "Explained Variance (Synthetic): [0.2004849  0.20033032 0.19997914 0.19980312 0.19940253]\n"
          ]
        }
      ]
    },
    {
      "cell_type": "markdown",
      "source": [
        "###**Plot the Scree Plot**"
      ],
      "metadata": {
        "id": "3YBElBDD06TN"
      }
    },
    {
      "cell_type": "code",
      "source": [
        "import matplotlib.pyplot as plt\n",
        "\n",
        "plt.figure(figsize=(6,4))\n",
        "plt.plot(range(1, 6), explained_variance, marker='o')\n",
        "plt.xlabel(\"Principal Component\")\n",
        "plt.ylabel(\"Variance Explained\")\n",
        "plt.title(\"Scree Plot (Synthetic Data)\")\n",
        "plt.grid(True)\n",
        "plt.show()"
      ],
      "metadata": {
        "colab": {
          "base_uri": "https://localhost:8080/",
          "height": 410
        },
        "id": "FWhpOYoS0_Ev",
        "outputId": "6cff3bf1-1c96-4456-a27a-7ce671b353ad"
      },
      "execution_count": null,
      "outputs": [
        {
          "output_type": "display_data",
          "data": {
            "text/plain": [
              "<Figure size 600x400 with 1 Axes>"
            ],
            "image/png": "[encoded data removed]"
          },
          "metadata": {}
        }
      ]
    },
    {
      "cell_type": "markdown",
      "source": [
        "###**Synthetic PCA Interpretation:**\n",
        "The scree plot for the synthetic data shows that all five principal components explain **similar amounts of variance**, with no single component dominating.\n",
        "\n",
        "This is expected because the data was generated using five uncorrelated Gaussian random variables.\n",
        "\n",
        "Since there is no underlying structure or correlation among the variables, PCA cannot compress the variance into fewer components, each component explains about 20–25% of the total variance.\n",
        "\n",
        "This confirms the **independence of the synthetic variables** and provides a strong **benchmark for comparison with real-world financial data**."
      ],
      "metadata": {
        "id": "j-_cWBXV1WBn"
      }
    },
    {
      "cell_type": "markdown",
      "source": [
        "#**2. Real Data Part**"
      ],
      "metadata": {
        "id": "Z7O9qeIL2IDh"
      }
    },
    {
      "cell_type": "code",
      "source": [
        "!pip install fredapi"
      ],
      "metadata": {
        "colab": {
          "base_uri": "https://localhost:8080/"
        },
        "id": "XFDc1Wm72x-b",
        "outputId": "10f59b70-20fc-497a-93ce-35551be725bd"
      },
      "execution_count": null,
      "outputs": [
        {
          "output_type": "stream",
          "name": "stdout",
          "text": [
            "Collecting fredapi\n",
            "  Downloading fredapi-0.5.2-py3-none-any.whl.metadata (5.0 kB)\n",
            "Requirement already satisfied: pandas in /usr/local/lib/python3.11/dist-packages (from fredapi) (2.2.2)\n",
            "Requirement already satisfied: numpy>=1.23.2 in /usr/local/lib/python3.11/dist-packages (from pandas->fredapi) (2.0.2)\n",
            "Requirement already satisfied: python-dateutil>=2.8.2 in /usr/local/lib/python3.11/dist-packages (from pandas->fredapi) (2.9.0.post0)\n",
            "Requirement already satisfied: pytz>=2020.1 in /usr/local/lib/python3.11/dist-packages (from pandas->fredapi) (2025.2)\n",
            "Requirement already satisfied: tzdata>=2022.7 in /usr/local/lib/python3.11/dist-packages (from pandas->fredapi) (2025.2)\n",
            "Requirement already satisfied: six>=1.5 in /usr/local/lib/python3.11/dist-packages (from python-dateutil>=2.8.2->pandas->fredapi) (1.17.0)\n",
            "Downloading fredapi-0.5.2-py3-none-any.whl (11 kB)\n",
            "Installing collected packages: fredapi\n",
            "Successfully installed fredapi-0.5.2\n"
          ]
        }
      ]
    },
    {
      "cell_type": "code",
      "source": [
        "import pandas as pd\n",
        "from fredapi import Fred\n",
        "import matplotlib.pyplot as plt\n",
        "import seaborn as sns\n",
        "sns.set()"
      ],
      "metadata": {
        "id": "JqihTcCW24zR"
      },
      "execution_count": null,
      "outputs": []
    },
    {
      "cell_type": "code",
      "source": [
        "# Initialize FRED API\n",
        "fred = Fred(api_key='0749ccdf18180b136b399a83bcf1bced')\n",
        "\n",
        "# Series IDs for 5 maturities\n",
        "series_ids = ['DGS1', 'DGS2', 'DGS5', 'DGS10', 'DGS30']\n",
        "maturity_labels = ['1 Year', '2 Year', '5 Year', '10 Year', '30 Year']\n",
        "\n",
        "# Fetch data\n",
        "yields_dict = {series_id: fred.get_series(series_id, observation_start=\"2024-01-01\", observation_end=\"2025-07-01\") for series_id in series_ids}\n",
        "\n",
        "# Combine into DataFrame\n",
        "yields = pd.DataFrame(yields_dict)\n",
        "yields.columns = maturity_labels\n",
        "\n",
        "#yields.columns = ['6 Month', '1 Year', '2 Year', '3 Year', '5 Year', '7 Year', '10 Year', '20 Year', '30 Year']"
      ],
      "metadata": {
        "id": "ol4vTrdH28pN"
      },
      "execution_count": null,
      "outputs": []
    },
    {
      "cell_type": "markdown",
      "source": [
        "###**Compute Daily Changes**"
      ],
      "metadata": {
        "id": "dpfuJbxJ4kgQ"
      }
    },
    {
      "cell_type": "code",
      "source": [
        "# Drop rows with any missing values\n",
        "yields = yields.dropna()\n",
        "\n",
        "# Compute daily changes\n",
        "yield_changes = yields.diff().dropna()"
      ],
      "metadata": {
        "id": "2ZPiVsLR4pny"
      },
      "execution_count": null,
      "outputs": []
    },
    {
      "cell_type": "markdown",
      "source": [
        "###**Run PCA on Yield Changes**"
      ],
      "metadata": {
        "id": "Kof6kXut4xeX"
      }
    },
    {
      "cell_type": "code",
      "source": [
        "from sklearn.decomposition import PCA\n",
        "import matplotlib.pyplot as plt\n",
        "\n",
        "# Run PCA\n",
        "pca_real = PCA()\n",
        "pca_real.fit(yield_changes)\n",
        "\n",
        "# Explained variance\n",
        "explained_variance_real = pca_real.explained_variance_ratio_\n",
        "print(\"Real Data Explained Variance:\", explained_variance_real)\n",
        "\n",
        "# Plot Scree Plot\n",
        "plt.figure(figsize=(6, 4))\n",
        "plt.plot(range(1, 6), explained_variance_real, marker='o', label='Real Yield Data')\n",
        "plt.xlabel(\"Principal Component\")\n",
        "plt.ylabel(\"Variance Explained\")\n",
        "plt.title(\"Scree Plot (Real Yield Changes)\")\n",
        "plt.grid(True)\n",
        "plt.legend()\n",
        "plt.show()"
      ],
      "metadata": {
        "colab": {
          "base_uri": "https://localhost:8080/",
          "height": 437
        },
        "id": "PRUu_AF8414i",
        "outputId": "171c6f6f-fef1-41c0-fcd7-9cc1976aa701"
      },
      "execution_count": null,
      "outputs": [
        {
          "output_type": "stream",
          "name": "stdout",
          "text": [
            "Real Data Explained Variance: [0.86092879 0.11285782 0.01477498 0.0090822  0.00235621]\n"
          ]
        },
        {
          "output_type": "display_data",
          "data": {
            "text/plain": [
              "<Figure size 600x400 with 1 Axes>"
            ],
            "image/png": "[encoded data removed]"
          },
          "metadata": {}
        }
      ]
    },
    {
      "cell_type": "markdown",
      "source": [
        "it clearly shows that:\n",
        "\n",
        "The first principal component explains most of the variance, around 90%,\n",
        "\n",
        "Subsequent components contribute much less.\n",
        "\n",
        "This supports the idea that real-world yield curves mostly **shift in parallel**."
      ],
      "metadata": {
        "id": "ffY7Ikw_5IOt"
      }
    },
    {
      "cell_type": "markdown",
      "source": [
        "#**Compare Synthetic vs Real Scree Plots**"
      ],
      "metadata": {
        "id": "IEAjbT9p5XTH"
      }
    },
    {
      "cell_type": "markdown",
      "source": [
        "###**Let’s overlay both plots on one chart to finish the task comparison:**"
      ],
      "metadata": {
        "id": "bBtef0s25drZ"
      }
    },
    {
      "cell_type": "markdown",
      "source": [
        "We have both arrays `(explained_variance and explained_variance_real)`, run this:"
      ],
      "metadata": {
        "id": "I0cpMNA56m65"
      }
    },
    {
      "cell_type": "code",
      "source": [
        "plt.figure(figsize=(6, 4))\n",
        "plt.plot(range(1, 6), explained_variance[:5], marker='o', label='Synthetic Data')\n",
        "plt.plot(range(1, 6), explained_variance_real[:5], marker='s', label='Real Yield Data')\n",
        "plt.xlabel(\"Principal Component\")\n",
        "plt.ylabel(\"Variance Explained\")\n",
        "plt.title(\"Scree Plot Comparison\")\n",
        "plt.legend()\n",
        "plt.grid(True)\n",
        "plt.show()"
      ],
      "metadata": {
        "colab": {
          "base_uri": "https://localhost:8080/",
          "height": 419
        },
        "id": "8s3YcATc5iel",
        "outputId": "1c6b4948-dd08-4f2d-9796-ff54c2388571"
      },
      "execution_count": null,
      "outputs": [
        {
          "output_type": "display_data",
          "data": {
            "text/plain": [
              "<Figure size 600x400 with 1 Axes>"
            ],
            "image/png": "[encoded data removed]"
          },
          "metadata": {}
        }
      ]
    },
    {
      "cell_type": "markdown",
      "source": [
        "##**Scree Plot Comparison: Real vs. Synthetic Data**"
      ],
      "metadata": {
        "id": "4ob9NTVa7nj1"
      }
    },
    {
      "cell_type": "markdown",
      "source": [
        "**What the Scree Plot Shows**\n",
        "\n",
        "X-axis: Principal Components (PC1 to PC5)\n",
        "\n",
        "Y-axis: Proportion of total variance each component explains"
      ],
      "metadata": {
        "id": "62xyHH2-7sFp"
      }
    },
    {
      "cell_type": "markdown",
      "source": [
        "**Synthetic Data**\n",
        "\n",
        "Variance is evenly spread across components.\n",
        "\n",
        "No single PC dominates — this is expected because synthetic data was generated uncorrelated.\n",
        "\n",
        "Each PC explains ~20–25% variance."
      ],
      "metadata": {
        "id": "soG5SKwe71in"
      }
    },
    {
      "cell_type": "markdown",
      "source": [
        "**Real Yield Data**\n",
        "\n",
        "PC1 explains ~90% of total variance, a huge drop after the first component.\n",
        "\n",
        "Remaining PCs contribute very little.\n",
        "\n",
        "This means real yield movements are highly correlated, mostly driven by a single underlying factor, often interpreted as:\n",
        "\n",
        "PC1: Level (general shift in yield curve)\n",
        "\n",
        "PC2: Slope (difference between short and long rates)\n",
        "\n",
        "PC3: Curvature (hump shape)"
      ],
      "metadata": {
        "id": "r4jihrBk76IO"
      }
    },
    {
      "cell_type": "markdown",
      "source": [
        "##**Final Interpretation**\n",
        "\n",
        "The synthetic scree plot displays evenly distributed variance across components, consistent with uncorrelated random data.\n",
        "\n",
        "In contrast, the real yield data's first principal component captures the vast majority of variance (~90%), highlighting strong correlations across maturities.\n",
        "\n",
        "This confirms that real-world yield curves are dominated by common movements, validating the use of **factor models like Nelson-Siegel**."
      ],
      "metadata": {
        "id": "cqZDsDF28UL0"
      }
    },
    {
      "cell_type": "markdown",
      "source": [
        "##**Recommendation**\n",
        "\n",
        "NS model is suitable due to factor-based behavior in yield curves.\n",
        "\n",
        "PCA validates the low-dimensional structure (mainly 1–2 factors).\n",
        "\n",
        "Synthetic vs real: Real-world data is more structured, confirming real market forces."
      ],
      "metadata": {
        "id": "xM5ovqaL9EK9"
      }
    }
  ]
}